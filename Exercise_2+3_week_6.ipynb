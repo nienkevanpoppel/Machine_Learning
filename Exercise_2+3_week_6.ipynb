{
 "cells": [
  {
   "cell_type": "code",
   "execution_count": 2,
   "metadata": {},
   "outputs": [
    {
     "data": {
      "text/html": [
       "<div>\n",
       "<style scoped>\n",
       "    .dataframe tbody tr th:only-of-type {\n",
       "        vertical-align: middle;\n",
       "    }\n",
       "\n",
       "    .dataframe tbody tr th {\n",
       "        vertical-align: top;\n",
       "    }\n",
       "\n",
       "    .dataframe thead th {\n",
       "        text-align: right;\n",
       "    }\n",
       "</style>\n",
       "<table border=\"1\" class=\"dataframe\">\n",
       "  <thead>\n",
       "    <tr style=\"text-align: right;\">\n",
       "      <th></th>\n",
       "      <th>raw_character_text</th>\n",
       "      <th>spoken_words</th>\n",
       "    </tr>\n",
       "  </thead>\n",
       "  <tbody>\n",
       "    <tr>\n",
       "      <td>0</td>\n",
       "      <td>Miss Hoover</td>\n",
       "      <td>No, actually, it was a little of both. Sometim...</td>\n",
       "    </tr>\n",
       "    <tr>\n",
       "      <td>1</td>\n",
       "      <td>Lisa Simpson</td>\n",
       "      <td>Where's Mr. Bergstrom?</td>\n",
       "    </tr>\n",
       "    <tr>\n",
       "      <td>2</td>\n",
       "      <td>Miss Hoover</td>\n",
       "      <td>I don't know. Although I'd sure like to talk t...</td>\n",
       "    </tr>\n",
       "    <tr>\n",
       "      <td>3</td>\n",
       "      <td>Lisa Simpson</td>\n",
       "      <td>That life is worth living.</td>\n",
       "    </tr>\n",
       "    <tr>\n",
       "      <td>4</td>\n",
       "      <td>Edna Krabappel-Flanders</td>\n",
       "      <td>The polls will be open from now until the end ...</td>\n",
       "    </tr>\n",
       "  </tbody>\n",
       "</table>\n",
       "</div>"
      ],
      "text/plain": [
       "        raw_character_text                                       spoken_words\n",
       "0              Miss Hoover  No, actually, it was a little of both. Sometim...\n",
       "1             Lisa Simpson                             Where's Mr. Bergstrom?\n",
       "2              Miss Hoover  I don't know. Although I'd sure like to talk t...\n",
       "3             Lisa Simpson                         That life is worth living.\n",
       "4  Edna Krabappel-Flanders  The polls will be open from now until the end ..."
      ]
     },
     "execution_count": 2,
     "metadata": {},
     "output_type": "execute_result"
    }
   ],
   "source": [
    "import seaborn as sns #this is the plotting library I'll be using \n",
    "import pandas as pd #\"as pd\" means that we can use the abbreviation in commands\n",
    "\n",
    "from sklearn.model_selection import train_test_split\n",
    "df = pd.read_csv('../simpsons.csv')\n",
    "df.head()"
   ]
  },
  {
   "cell_type": "code",
   "execution_count": 3,
   "metadata": {},
   "outputs": [
    {
     "name": "stdout",
     "output_type": "stream",
     "text": [
      "       raw_character_text                                       spoken_words\n",
      "1            Lisa Simpson                             Where's Mr. Bergstrom?\n",
      "3            Lisa Simpson                         That life is worth living.\n",
      "7            Bart Simpson                     Victory party under the slide!\n",
      "9            Lisa Simpson                      Mr. Bergstrom! Mr. Bergstrom!\n",
      "11           Lisa Simpson                Do you know where I could find him?\n",
      "...                   ...                                                ...\n",
      "158299       Lisa Simpson                                  Can we have wine?\n",
      "158301       Lisa Simpson                                   Can I have wine?\n",
      "158303       Lisa Simpson                        Does Bart have to be there?\n",
      "158305       Lisa Simpson                            Can we do it this week?\n",
      "158307       Lisa Simpson  Mr. Bergstrom, we request the pleasure of your...\n",
      "\n",
      "[25248 rows x 2 columns]\n"
     ]
    }
   ],
   "source": [
    "df = df[(df.raw_character_text==\"Bart Simpson\") | (df.raw_character_text==\"Lisa Simpson\")]\n",
    "print(df)"
   ]
  },
  {
   "cell_type": "code",
   "execution_count": 4,
   "metadata": {},
   "outputs": [
    {
     "name": "stdout",
     "output_type": "stream",
     "text": [
      "There are 14258 words in the vocabulary. A selection: ['anguished', 'angus', 'anima', 'animal', 'animals', 'animated', 'animation', 'animators', 'anka', 'ankle', 'ann', 'annapolis', 'anne', 'annie', 'anniversary', 'annnnd', 'announce', 'announcement', 'announcements', 'announcer']\n",
      "  (24, 424)\t1\n",
      "  (40, 325)\t1\n",
      "  (45, 266)\t1\n",
      "  (63, 269)\t1\n",
      "  (74, 356)\t1\n",
      "  (80, 264)\t1\n",
      "  (82, 304)\t1\n",
      "  (98, 192)\t1\n",
      "  (100, 396)\t1\n",
      "  (151, 328)\t1\n",
      "  (156, 325)\t1\n",
      "  (157, 451)\t1\n",
      "  (163, 325)\t1\n",
      "  (164, 325)\t1\n",
      "  (186, 461)\t1\n",
      "  (207, 325)\t1\n",
      "  (210, 397)\t1\n",
      "  (231, 270)\t1\n",
      "  (237, 404)\t1\n",
      "  (259, 325)\t1\n",
      "  (287, 325)\t1\n",
      "  (294, 493)\t1\n",
      "  (295, 163)\t1\n",
      "  (318, 300)\t1\n",
      "  (321, 281)\t1\n",
      "  (356, 450)\t1\n",
      "  (358, 397)\t1\n",
      "  (362, 449)\t1\n",
      "  (366, 24)\t1\n",
      "  (366, 449)\t1\n",
      "  (386, 129)\t1\n",
      "  (387, 325)\t1\n",
      "  (388, 70)\t1\n",
      "  (394, 38)\t1\n",
      "  (394, 91)\t1\n",
      "  (396, 446)\t1\n",
      "  (398, 126)\t1\n",
      "  (410, 52)\t1\n",
      "  (410, 319)\t1\n",
      "  (410, 343)\t1\n",
      "  (413, 449)\t1\n",
      "  (419, 196)\t1\n",
      "  (428, 360)\t1\n",
      "  (464, 304)\t1\n"
     ]
    }
   ],
   "source": [
    "from sklearn.feature_extraction.text import CountVectorizer #The CountVectorizer object\n",
    "\n",
    "text = df['spoken_words'].values.astype('U') #Taking the text from the df. We need to convert it to Unicode\n",
    "\n",
    "vect = CountVectorizer(stop_words='english') #Create the CV object, with English stop words\n",
    "vect = vect.fit(text) #We fit the model with the words from the review text\n",
    "vect\n",
    "feature_names = vect.get_feature_names() #Get the words from the vocabulary\n",
    "print(f\"There are {len(feature_names)} words in the vocabulary. A selection: {feature_names[500:520]}\")\n",
    "docu_feat = vect.transform(text) #The transform method from the CountVectorizer object creates the matrix\n",
    "print(docu_feat[0:500,0:500]) #Let's print a little part of the matrix: the first 50 words & documents"
   ]
  },
  {
   "cell_type": "code",
   "execution_count": 5,
   "metadata": {},
   "outputs": [],
   "source": [
    "y = df['raw_character_text'] #We need to take out the price as our Y-variable\n",
    "X = docu_feat  #this slices the dataframe to include all rows I need\n"
   ]
  },
  {
   "cell_type": "code",
   "execution_count": 6,
   "metadata": {},
   "outputs": [],
   "source": [
    "X_train, X_test, y_train, y_test = train_test_split(X, y, test_size=0.3, random_state=1) #split the data, store it into different variables\n"
   ]
  },
  {
   "cell_type": "code",
   "execution_count": 7,
   "metadata": {},
   "outputs": [
    {
     "data": {
      "text/plain": [
       "MultinomialNB(alpha=1.0, class_prior=None, fit_prior=True)"
      ]
     },
     "execution_count": 7,
     "metadata": {},
     "output_type": "execute_result"
    }
   ],
   "source": [
    "from sklearn.naive_bayes import MultinomialNB\n",
    "clf = MultinomialNB() #clf = classifier\n",
    "clf.fit(X_train, y_train)"
   ]
  },
  {
   "cell_type": "code",
   "execution_count": 8,
   "metadata": {},
   "outputs": [
    {
     "name": "stdout",
     "output_type": "stream",
     "text": [
      "['Bart Simpson']\n",
      "Victory party under the slide!\n"
     ]
    }
   ],
   "source": [
    "print(clf.predict(X[2]))\n",
    "print(df.spoken_words.iloc[2])"
   ]
  },
  {
   "cell_type": "code",
   "execution_count": 9,
   "metadata": {},
   "outputs": [
    {
     "data": {
      "text/plain": [
       "array([[3271,  894],\n",
       "       [1799, 1611]])"
      ]
     },
     "execution_count": 9,
     "metadata": {},
     "output_type": "execute_result"
    }
   ],
   "source": [
    "from sklearn.metrics import confusion_matrix\n",
    "y_test_pred = clf.predict(X_test)\n",
    "cm = confusion_matrix(y_test, y_test_pred)\n",
    "cm"
   ]
  },
  {
   "cell_type": "code",
   "execution_count": 10,
   "metadata": {},
   "outputs": [
    {
     "data": {
      "text/plain": [
       "array(['Bart Simpson', 'Lisa Simpson'], dtype='<U12')"
      ]
     },
     "execution_count": 10,
     "metadata": {},
     "output_type": "execute_result"
    }
   ],
   "source": [
    "# y_test.value_counts() works both\n",
    "clf.classes_"
   ]
  },
  {
   "cell_type": "code",
   "execution_count": 11,
   "metadata": {},
   "outputs": [
    {
     "data": {
      "text/html": [
       "<div>\n",
       "<style scoped>\n",
       "    .dataframe tbody tr th:only-of-type {\n",
       "        vertical-align: middle;\n",
       "    }\n",
       "\n",
       "    .dataframe tbody tr th {\n",
       "        vertical-align: top;\n",
       "    }\n",
       "\n",
       "    .dataframe thead th {\n",
       "        text-align: right;\n",
       "    }\n",
       "</style>\n",
       "<table border=\"1\" class=\"dataframe\">\n",
       "  <thead>\n",
       "    <tr style=\"text-align: right;\">\n",
       "      <th></th>\n",
       "      <th>predicted Bart</th>\n",
       "      <th>predicted Lisa</th>\n",
       "    </tr>\n",
       "  </thead>\n",
       "  <tbody>\n",
       "    <tr>\n",
       "      <td>Bart</td>\n",
       "      <td>3271</td>\n",
       "      <td>894</td>\n",
       "    </tr>\n",
       "    <tr>\n",
       "      <td>Lisa</td>\n",
       "      <td>1799</td>\n",
       "      <td>1611</td>\n",
       "    </tr>\n",
       "  </tbody>\n",
       "</table>\n",
       "</div>"
      ],
      "text/plain": [
       "      predicted Bart  predicted Lisa\n",
       "Bart            3271             894\n",
       "Lisa            1799            1611"
      ]
     },
     "execution_count": 11,
     "metadata": {},
     "output_type": "execute_result"
    }
   ],
   "source": [
    "#In order to read it easily , let's make a dataframe out of it, and add labels to it.\n",
    "conf_matrix = pd.DataFrame(cm, index=['Bart', 'Lisa' ], columns = ['predicted Bart', 'predicted Lisa']) \n",
    "conf_matrix"
   ]
  },
  {
   "cell_type": "code",
   "execution_count": 12,
   "metadata": {},
   "outputs": [
    {
     "name": "stdout",
     "output_type": "stream",
     "text": [
      "              precision    recall  f1-score   support\n",
      "\n",
      "Bart Simpson       0.65      0.79      0.71      4165\n",
      "Lisa Simpson       0.64      0.47      0.54      3410\n",
      "\n",
      "    accuracy                           0.64      7575\n",
      "   macro avg       0.64      0.63      0.63      7575\n",
      "weighted avg       0.64      0.64      0.63      7575\n",
      "\n"
     ]
    }
   ],
   "source": [
    "from sklearn.metrics import classification_report\n",
    "print(classification_report(y_test,y_test_pred))"
   ]
  },
  {
   "cell_type": "code",
   "execution_count": 13,
   "metadata": {},
   "outputs": [
    {
     "data": {
      "text/plain": [
       "Bart Simpson    0.544954\n",
       "Lisa Simpson    0.455046\n",
       "Name: raw_character_text, dtype: float64"
      ]
     },
     "execution_count": 13,
     "metadata": {},
     "output_type": "execute_result"
    }
   ],
   "source": [
    "df['raw_character_text'].value_counts(normalize=True)"
   ]
  },
  {
   "cell_type": "markdown",
   "metadata": {},
   "source": [
    "So we're doing about 76-54 percent better than when we would guess Bart al the time. not great but to be expected of short lines of dialogue"
   ]
  },
  {
   "cell_type": "code",
   "execution_count": 14,
   "metadata": {},
   "outputs": [
    {
     "name": "stdout",
     "output_type": "stream",
     "text": [
      "[[0.79366658 0.20633342]]\n"
     ]
    }
   ],
   "source": [
    "#probability of second sentence:\n",
    "y_test_prob = clf.predict_proba(X[2])\n",
    "print(y_test_prob)"
   ]
  },
  {
   "cell_type": "code",
   "execution_count": 15,
   "metadata": {},
   "outputs": [
    {
     "name": "stdout",
     "output_type": "stream",
     "text": [
      "sentence 1 That life is worth living.\n",
      "Bart: 0.676345532629102 Lisa 0.3236544673708974\n",
      "sentence 2 Victory party under the slide!\n",
      "Bart: 0.7936665779408832 Lisa 0.20633342205911578\n",
      "sentence 3 Mr. Bergstrom! Mr. Bergstrom!\n",
      "Bart: 0.0016738185124174146 Lisa 0.9983261814875828\n",
      "sentence 4 Do you know where I could find him?\n",
      "Bart: 0.5424412124555592 Lisa 0.4575587875444406\n",
      "sentence 5 The train, how like him... traditional, yet environmentally sound.\n",
      "Bart: 0.06930172690218564 Lisa 0.930698273097816\n",
      "sentence 6 I see he touched you, too.\n",
      "Bart: 0.42381872382568675 Lisa 0.5761812761743126\n",
      "sentence 7 Hey, thanks for your vote, man.\n",
      "Bart: 0.9536359347446102 Lisa 0.04636406525539032\n",
      "sentence 8 Well, you got that right. Thanks for your vote, girls.\n",
      "Bart: 0.8431657684099719 Lisa 0.15683423159002693\n",
      "sentence 9 Well, don't sweat it. Just so long as a couple of people did... right, Milhouse?\n",
      "Bart: 0.8170694268683306 Lisa 0.18293057313167005\n",
      "sentence 10 Lewis?\n",
      "Bart: 0.7339270932407512 Lisa 0.26607290675924955\n",
      "sentence 11 Somebody must have voted.\n",
      "Bart: 0.30208347927680923 Lisa 0.6979165207231907\n",
      "sentence 12 Uh oh.\n",
      "Bart: 0.7228048637697062 Lisa 0.2771951362302934\n",
      "sentence 13 nan\n",
      "Bart: 0.5358270058605773 Lisa 0.46417299413942276\n",
      "sentence 14 I demand a recount.\n",
      "Bart: 0.7546261883170647 Lisa 0.24537381168293468\n",
      "sentence 15 No.\n",
      "Bart: 0.5428619928704803 Lisa 0.45713800712951974\n",
      "sentence 16 Mr. Bergstrom! Hey, Mr. Bergstrom!\n",
      "Bart: 0.0047226697018896355 Lisa 0.9952773302981087\n",
      "sentence 17 Hey, Lisa, indeed.\n",
      "Bart: 0.920047656978963 Lisa 0.07995234302103714\n",
      "sentence 18 Oh, I mean, were you just going to leave, just like that?\n",
      "Bart: 0.5594515003265402 Lisa 0.4405484996734579\n",
      "sentence 19 You can't go! You're the best teacher I'll ever have.\n",
      "Bart: 0.5885885909496098 Lisa 0.411411409050391\n",
      "sentence 20 Oh, please.\n",
      "Bart: 0.574391038432606 Lisa 0.4256089615673938\n",
      "sentence 21 But I need you too.\n",
      "Bart: 0.5868453526357376 Lisa 0.4131546473642621\n",
      "sentence 22 I, I understand. Mr. Bergstrom, I'm going to miss you.\n",
      "Bart: 0.017921169184061357 Lisa 0.9820788308159354\n",
      "sentence 23 Thank you, Mr. Bergstrom.\n",
      "Bart: 0.0259982369810321 Lisa 0.9740017630189679\n",
      "sentence 24 So, I guess this is it? It you don't mind I'll just run alongside the train as it speeds you from my life?\n",
      "Bart: 0.3125371626341257 Lisa 0.6874628373658808\n",
      "sentence 25 Nothing.\n",
      "Bart: 0.5428619928704803 Lisa 0.45713800712951974\n",
      "sentence 26 Mr. Bergstrom left today.\n",
      "Bart: 0.0314597576294659 Lisa 0.9685402423705349\n",
      "sentence 27 He's gone. Forever.\n",
      "Bart: 0.6961857959222127 Lisa 0.30381420407778753\n"
     ]
    }
   ],
   "source": [
    "# loop that prints out lines of dialogue associated with probabilities\n",
    "for i in range(1, 28):\n",
    "    y_test_prob = clf.predict_proba(X[i])\n",
    "    print('sentence', i, df.spoken_words.iloc[i])\n",
    "#     print( y_test_prob)\n",
    "    print('Bart:', y_test_prob[0,0], 'Lisa', y_test_prob[0,1] )\n",
    "    \n",
    "    i+1"
   ]
  },
  {
   "cell_type": "code",
   "execution_count": null,
   "metadata": {},
   "outputs": [],
   "source": []
  }
 ],
 "metadata": {
  "kernelspec": {
   "display_name": "Python 3",
   "language": "python",
   "name": "python3"
  },
  "language_info": {
   "codemirror_mode": {
    "name": "ipython",
    "version": 3
   },
   "file_extension": ".py",
   "mimetype": "text/x-python",
   "name": "python",
   "nbconvert_exporter": "python",
   "pygments_lexer": "ipython3",
   "version": "3.7.3"
  }
 },
 "nbformat": 4,
 "nbformat_minor": 2
}
